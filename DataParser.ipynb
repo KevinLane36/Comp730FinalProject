{
 "cells": [
  {
   "cell_type": "code",
   "execution_count": 30,
   "metadata": {},
   "outputs": [
    {
     "name": "stdout",
     "output_type": "stream",
     "text": [
      "[{'hypervisor': 'vbox', 'host': 'mac', 'guest': 'centos', 'ram': '2', 'CPU Total Time': 495.59, 'Mem Throughput': 16347.59}, {'hypervisor': 'vbox', 'host': 'mac', 'guest': 'centos', 'ram': '2', 'CPU Total Time': 494.51, 'Mem Throughput': 18085.28}, {'hypervisor': 'vbox', 'host': 'mac', 'guest': 'centos', 'ram': '2', 'CPU Total Time': 463.47, 'Mem Throughput': 16093.62}, {'hypervisor': 'vbox', 'host': 'mac', 'guest': 'centos', 'ram': '2', 'CPU Total Time': 498.1, 'Mem Throughput': 16318.78}, {'hypervisor': 'vbox', 'host': 'mac', 'guest': 'centos', 'ram': '2', 'CPU Total Time': 499.57, 'Mem Throughput': 16566.78}, {'hypervisor': 'vbox', 'host': 'mac', 'guest': 'centos', 'ram': '4', 'CPU Total Time': 499.57, 'Mem Throughput': 17378.96}, {'hypervisor': 'vbox', 'host': 'mac', 'guest': 'centos', 'ram': '4', 'CPU Total Time': 497.15, 'Mem Throughput': 15639.3}, {'hypervisor': 'vbox', 'host': 'mac', 'guest': 'centos', 'ram': '4', 'CPU Total Time': 500.99, 'Mem Throughput': 16876.33}, {'hypervisor': 'vbox', 'host': 'mac', 'guest': 'centos', 'ram': '4', 'CPU Total Time': 500.72, 'Mem Throughput': 16701.37}, {'hypervisor': 'vbox', 'host': 'mac', 'guest': 'centos', 'ram': '4', 'CPU Total Time': 499.31, 'Mem Throughput': 17080.62}, {'hypervisor': 'vbox', 'host': 'mac', 'guest': 'ubuntu', 'ram': '4', 'CPU Total Time': 490.18, 'Mem Throughput': 12703.85}, {'hypervisor': 'vbox', 'host': 'mac', 'guest': 'ubuntu', 'ram': '4', 'CPU Total Time': 471.97, 'Mem Throughput': 14970.16}, {'hypervisor': 'vbox', 'host': 'mac', 'guest': 'ubuntu', 'ram': '4', 'CPU Total Time': 475.7, 'Mem Throughput': 15197.56}, {'hypervisor': 'vbox', 'host': 'mac', 'guest': 'ubuntu', 'ram': '4', 'CPU Total Time': 488.2, 'Mem Throughput': 15229.97}, {'hypervisor': 'vbox', 'host': 'mac', 'guest': 'ubuntu', 'ram': '4', 'CPU Total Time': 493.92, 'Mem Throughput': 15450.23}, {'hypervisor': 'vbox', 'host': 'windows', 'guest': 'centos', 'ram': '4', 'CPU Total Time': 452.97, 'Mem Throughput': 16300.39}, {'hypervisor': 'vbox', 'host': 'windows', 'guest': 'centos', 'ram': '4', 'CPU Total Time': 465.71, 'Mem Throughput': 15865.26}, {'hypervisor': 'vbox', 'host': 'windows', 'guest': 'centos', 'ram': '4', 'CPU Total Time': 414.11, 'Mem Throughput': 16179.27}, {'hypervisor': 'vbox', 'host': 'windows', 'guest': 'centos', 'ram': '4', 'CPU Total Time': 193.01, 'Mem Throughput': 4015.57}, {'hypervisor': 'vbox', 'host': 'windows', 'guest': 'centos', 'ram': '4', 'CPU Total Time': 207.92, 'Mem Throughput': 4136.59}, {'hypervisor': 'vbox', 'host': 'windows', 'guest': 'ubuntu', 'ram': '4', 'CPU Total Time': 442.64, 'Mem Throughput': 16561.79}, {'hypervisor': 'vbox', 'host': 'windows', 'guest': 'ubuntu', 'ram': '4', 'CPU Total Time': 376.84, 'Mem Throughput': 14083.39}, {'hypervisor': 'vbox', 'host': 'windows', 'guest': 'ubuntu', 'ram': '4', 'CPU Total Time': 381.2, 'Mem Throughput': 14825.87}, {'hypervisor': 'vbox', 'host': 'windows', 'guest': 'ubuntu', 'ram': '4', 'CPU Total Time': 354.6, 'Mem Throughput': 12929.71}, {'hypervisor': 'vbox', 'host': 'windows', 'guest': 'ubuntu', 'ram': '4', 'CPU Total Time': 357.18, 'Mem Throughput': 13439.0}, {'hypervisor': 'vmware', 'host': 'mac', 'guest': 'centos', 'ram': '2', 'CPU Total Time': 466.64, 'Mem Throughput': 16817.97}, {'hypervisor': 'vmware', 'host': 'mac', 'guest': 'centos', 'ram': '2', 'CPU Total Time': 471.85, 'Mem Throughput': 15707.4}, {'hypervisor': 'vmware', 'host': 'mac', 'guest': 'centos', 'ram': '2', 'CPU Total Time': 472.22, 'Mem Throughput': 16781.22}, {'hypervisor': 'vmware', 'host': 'mac', 'guest': 'centos', 'ram': '2', 'CPU Total Time': 472.5, 'Mem Throughput': 15777.59}, {'hypervisor': 'vmware', 'host': 'mac', 'guest': 'centos', 'ram': '2', 'CPU Total Time': 472.73, 'Mem Throughput': 15760.87}, {'hypervisor': 'vmware', 'host': 'mac', 'guest': 'centos', 'ram': '4', 'CPU Total Time': 469.66, 'Mem Throughput': 16110.13}, {'hypervisor': 'vmware', 'host': 'mac', 'guest': 'centos', 'ram': '4', 'CPU Total Time': 415.46, 'Mem Throughput': 16003.15}, {'hypervisor': 'vmware', 'host': 'mac', 'guest': 'centos', 'ram': '4', 'CPU Total Time': 470.14, 'Mem Throughput': 15940.56}, {'hypervisor': 'vmware', 'host': 'mac', 'guest': 'centos', 'ram': '4', 'CPU Total Time': 470.01, 'Mem Throughput': 15745.25}, {'hypervisor': 'vmware', 'host': 'mac', 'guest': 'centos', 'ram': '4', 'CPU Total Time': 446.16, 'Mem Throughput': 15828.17}, {'hypervisor': 'vmware', 'host': 'mac', 'guest': 'centos', 'ram': '8', 'CPU Total Time': 279.88, 'Mem Throughput': 4862.63}, {'hypervisor': 'vmware', 'host': 'mac', 'guest': 'centos', 'ram': '8', 'CPU Total Time': 477.48, 'Mem Throughput': 15559.15}, {'hypervisor': 'vmware', 'host': 'mac', 'guest': 'centos', 'ram': '8', 'CPU Total Time': 472.62, 'Mem Throughput': 16334.97}, {'hypervisor': 'vmware', 'host': 'mac', 'guest': 'centos', 'ram': '8', 'CPU Total Time': 433.31, 'Mem Throughput': 14425.2}, {'hypervisor': 'vmware', 'host': 'mac', 'guest': 'centos', 'ram': '8', 'CPU Total Time': 461.72, 'Mem Throughput': 15424.11}, {'hypervisor': 'vmware', 'host': 'mac', 'guest': 'debian', 'ram': '2', 'CPU Total Time': 468.61, 'Mem Throughput': 16746.62}, {'hypervisor': 'vmware', 'host': 'mac', 'guest': 'debian', 'ram': '2', 'CPU Total Time': 470.75, 'Mem Throughput': 17021.07}, {'hypervisor': 'vmware', 'host': 'mac', 'guest': 'debian', 'ram': '2', 'CPU Total Time': 479.29, 'Mem Throughput': 17524.85}, {'hypervisor': 'vmware', 'host': 'mac', 'guest': 'debian', 'ram': '2', 'CPU Total Time': 478.31, 'Mem Throughput': 16773.08}, {'hypervisor': 'vmware', 'host': 'mac', 'guest': 'debian', 'ram': '2', 'CPU Total Time': 470.3, 'Mem Throughput': 16267.59}, {'hypervisor': 'vmware', 'host': 'mac', 'guest': 'debian', 'ram': '4', 'CPU Total Time': 470.95, 'Mem Throughput': 16351.77}, {'hypervisor': 'vmware', 'host': 'mac', 'guest': 'debian', 'ram': '4', 'CPU Total Time': 471.53, 'Mem Throughput': 17540.01}, {'hypervisor': 'vmware', 'host': 'mac', 'guest': 'debian', 'ram': '4', 'CPU Total Time': 481.33, 'Mem Throughput': 14278.81}, {'hypervisor': 'vmware', 'host': 'mac', 'guest': 'debian', 'ram': '4', 'CPU Total Time': 472.96, 'Mem Throughput': 17442.63}, {'hypervisor': 'vmware', 'host': 'mac', 'guest': 'debian', 'ram': '4', 'CPU Total Time': 479.54, 'Mem Throughput': 17149.19}, {'hypervisor': 'vmware', 'host': 'mac', 'guest': 'debian', 'ram': '8', 'CPU Total Time': 357.2, 'Mem Throughput': 15296.67}, {'hypervisor': 'vmware', 'host': 'mac', 'guest': 'debian', 'ram': '8', 'CPU Total Time': 448.06, 'Mem Throughput': 11915.16}, {'hypervisor': 'vmware', 'host': 'mac', 'guest': 'debian', 'ram': '8', 'CPU Total Time': 445.0, 'Mem Throughput': 16217.78}, {'hypervisor': 'vmware', 'host': 'mac', 'guest': 'debian', 'ram': '8', 'CPU Total Time': 452.96, 'Mem Throughput': 14992.89}, {'hypervisor': 'vmware', 'host': 'mac', 'guest': 'debian', 'ram': '8', 'CPU Total Time': 451.9, 'Mem Throughput': 15697.62}, {'hypervisor': 'vmware', 'host': 'mac', 'guest': 'ubuntu', 'ram': '2', 'CPU Total Time': 473.13, 'Mem Throughput': 15179.64}, {'hypervisor': 'vmware', 'host': 'mac', 'guest': 'ubuntu', 'ram': '2', 'CPU Total Time': 470.8, 'Mem Throughput': 15258.48}, {'hypervisor': 'vmware', 'host': 'mac', 'guest': 'ubuntu', 'ram': '2', 'CPU Total Time': 470.28, 'Mem Throughput': 15061.74}, {'hypervisor': 'vmware', 'host': 'mac', 'guest': 'ubuntu', 'ram': '2', 'CPU Total Time': 466.46, 'Mem Throughput': 15054.33}, {'hypervisor': 'vmware', 'host': 'mac', 'guest': 'ubuntu', 'ram': '2', 'CPU Total Time': 470.78, 'Mem Throughput': 14920.78}, {'hypervisor': 'vmware', 'host': 'mac', 'guest': 'ubuntu', 'ram': '4', 'CPU Total Time': 454.99, 'Mem Throughput': 15475.31}, {'hypervisor': 'vmware', 'host': 'mac', 'guest': 'ubuntu', 'ram': '4', 'CPU Total Time': 482.5, 'Mem Throughput': 13925.49}, {'hypervisor': 'vmware', 'host': 'mac', 'guest': 'ubuntu', 'ram': '4', 'CPU Total Time': 480.96, 'Mem Throughput': 14852.65}, {'hypervisor': 'vmware', 'host': 'mac', 'guest': 'ubuntu', 'ram': '4', 'CPU Total Time': 469.22, 'Mem Throughput': 14858.64}, {'hypervisor': 'vmware', 'host': 'mac', 'guest': 'ubuntu', 'ram': '4', 'CPU Total Time': 477.09, 'Mem Throughput': 14998.6}, {'hypervisor': 'vmware', 'host': 'mac', 'guest': 'ubuntu', 'ram': '8', 'CPU Total Time': 387.02, 'Mem Throughput': 14303.44}, {'hypervisor': 'vmware', 'host': 'mac', 'guest': 'ubuntu', 'ram': '8', 'CPU Total Time': 423.27, 'Mem Throughput': 14736.36}, {'hypervisor': 'vmware', 'host': 'mac', 'guest': 'ubuntu', 'ram': '8', 'CPU Total Time': 439.48, 'Mem Throughput': 14616.62}, {'hypervisor': 'vmware', 'host': 'mac', 'guest': 'ubuntu', 'ram': '8', 'CPU Total Time': 422.94, 'Mem Throughput': 13882.99}, {'hypervisor': 'vmware', 'host': 'mac', 'guest': 'ubuntu', 'ram': '8', 'CPU Total Time': 428.3, 'Mem Throughput': 12968.77}, {'hypervisor': 'vmware', 'host': 'windows', 'guest': 'centos', 'ram': '4', 'CPU Total Time': 445.49, 'Mem Throughput': 16126.99}, {'hypervisor': 'vmware', 'host': 'windows', 'guest': 'centos', 'ram': '4', 'CPU Total Time': 428.39, 'Mem Throughput': 14785.57}, {'hypervisor': 'vmware', 'host': 'windows', 'guest': 'centos', 'ram': '4', 'CPU Total Time': 476.72, 'Mem Throughput': 17941.0}, {'hypervisor': 'vmware', 'host': 'windows', 'guest': 'centos', 'ram': '4', 'CPU Total Time': 452.27, 'Mem Throughput': 15907.06}, {'hypervisor': 'vmware', 'host': 'windows', 'guest': 'centos', 'ram': '4', 'CPU Total Time': 417.72, 'Mem Throughput': 15619.31}, {'hypervisor': 'vmware', 'host': 'windows', 'guest': 'debian', 'ram': '4', 'CPU Total Time': 493.83, 'Mem Throughput': 17249.18}, {'hypervisor': 'vmware', 'host': 'windows', 'guest': 'debian', 'ram': '4', 'CPU Total Time': 490.65, 'Mem Throughput': 17879.11}, {'hypervisor': 'vmware', 'host': 'windows', 'guest': 'debian', 'ram': '4', 'CPU Total Time': 471.97, 'Mem Throughput': 14938.55}, {'hypervisor': 'vmware', 'host': 'windows', 'guest': 'debian', 'ram': '4', 'CPU Total Time': 486.68, 'Mem Throughput': 18455.02}, {'hypervisor': 'vmware', 'host': 'windows', 'guest': 'debian', 'ram': '4', 'CPU Total Time': 490.15, 'Mem Throughput': 16414.63}, {'hypervisor': 'vmware', 'host': 'windows', 'guest': 'ubuntu', 'ram': '4', 'CPU Total Time': 480.96, 'Mem Throughput': 13784.57}, {'hypervisor': 'vmware', 'host': 'windows', 'guest': 'ubuntu', 'ram': '4', 'CPU Total Time': 456.89, 'Mem Throughput': 16440.89}, {'hypervisor': 'vmware', 'host': 'windows', 'guest': 'ubuntu', 'ram': '4', 'CPU Total Time': 479.49, 'Mem Throughput': 16819.96}, {'hypervisor': 'vmware', 'host': 'windows', 'guest': 'ubuntu', 'ram': '4', 'CPU Total Time': 452.7, 'Mem Throughput': 15973.67}, {'hypervisor': 'vmware', 'host': 'windows', 'guest': 'ubuntu', 'ram': '4', 'CPU Total Time': 466.29, 'Mem Throughput': 16644.96}]\n"
     ]
    }
   ],
   "source": [
    "import os\n",
    "import csv\n",
    "import re\n",
    "\n",
    "# PGBench Excel {'hypervisor':'', 'host':'', 'guest':'', 'ram':'', 'tps':''}\n",
    "\n",
    "# SysBench Excel {'hypervisor':'', 'host':'', 'guest':'', 'ram':'', 'CPU Total Time':'','Mem Throughput':''}\n",
    "#see https://wiki.gentoo.org/wiki/Sysbench\n",
    "\n",
    "# iPerf {'hypervisor':'', 'host':'', 'guest':'', 'ram':'', _________} TODO: Finish the relevant fields\n",
    "\n",
    "# fio {'hypervisor':'', 'host':'', 'guest':'', 'ram':'', _________} TODO: Finish the relevant fields\n",
    "\n",
    "PGBench = [] #For each test run, make a new dict and add it to this list\n",
    "Sysbench = [] #For each test run, make a new dict and add it to this list\n",
    "iPerf = [] #For each test run, make a new dict and add it to this list\n",
    "fio = [] #For each test run, make a new dict and add it to this list\n",
    "\n",
    "for filename in os.listdir('results'):\n",
    "    \n",
    "    \n",
    "    #PGBench Parser\n",
    "    if filename[0] == 'p':\n",
    "        \n",
    "        f = open('results/' +filename, \"r\")\n",
    "        lines = f.readlines()\n",
    "        hypervisor = re.search('pgbenchResults_(.*)_.*_.*_.*.txt', filename).group(1)\n",
    "        if hypervisor == 'virtualbox':\n",
    "            hypervisor = 'vbox'\n",
    "        host = re.search('pgbenchResults_.*_(.*)_.*_.*.txt', filename).group(1)\n",
    "        guest =re.search('pgbenchResults_.*_.*_(.*)_.*.txt', filename).group(1)\n",
    "        ram = re.search('pgbenchResults_.*_.*_.*_(.).*.txt', filename).group(1)\n",
    "        tps = 0.0\n",
    "        for line in lines:\n",
    "            if 'including' in line:\n",
    "                tps = float(re.search('tps = (.*) \\(', line).group(1))\n",
    "                PGBench.append({'hypervisor':hypervisor, 'host':host, 'guest':guest, 'ram':ram, 'tps': tps})#Create dict and add to list\n",
    "                tps = 0.0#Reset values\n",
    "                \n",
    "    CPU = 0.0\n",
    "    MemOps = 0.0\n",
    "    MemThroughput = 0.0\n",
    "    #Sysbench Parser\n",
    "    if filename[0] == 's':\n",
    "        \n",
    "        f = open('results/' +filename, \"r\")\n",
    "        lines = f.readlines()\n",
    "        hypervisor = re.search('sysbenchResults_(.*)_.*_.*_.*.txt', filename).group(1)\n",
    "        if hypervisor == 'virtualbox':\n",
    "            hypervisor = 'vbox'\n",
    "        host = re.search('sysbenchResults_.*_(.*)_.*_.*.txt', filename).group(1)\n",
    "        guest =re.search('sysbenchResults_.*_.*_(.*)_.*.txt', filename).group(1)\n",
    "        ram = re.search('sysbenchResults_.*_.*_.*_(.).*.txt', filename).group(1)\n",
    "        for line in lines:\n",
    "            if 'events per second' in line:\n",
    "                CPU = float(re.search('events per second:   (.*)', line).group(1))\n",
    "            if '4096.00 MiB transferred (' in line:\n",
    "                MemThroughput = float(re.search('4096.00 MiB transferred \\((.*) MiB/sec', line).group(1))\n",
    "                Sysbench.append({'hypervisor':hypervisor, 'host':host, 'guest':guest, 'ram':ram, 'CPU Total Time': CPU, 'Mem Throughput': MemThroughput})\n",
    "                CPU = 0.0\n",
    "                MemThroughput = 0.0\n",
    "    \n",
    "listToCSV(PGBench, 'PGBench.csv')\n",
    "listToCSV(Sysbench, 'Sysbench.csv')\n",
    "#listToCSV(iPerf, 'iPerf.csv')\n",
    "#listToCSV(fio, 'FIO.csv')\n",
    "print(Sysbench)\n",
    "def listToCSV(toCSV, filename):\n",
    "    keys = toCSV[0].keys()\n",
    "    with open(filename, 'w', newline='')  as output_file:\n",
    "        dict_writer = csv.DictWriter(output_file, keys)\n",
    "        dict_writer.writeheader()\n",
    "        dict_writer.writerows(toCSV)        "
   ]
  },
  {
   "cell_type": "code",
   "execution_count": null,
   "metadata": {},
   "outputs": [],
   "source": []
  }
 ],
 "metadata": {
  "kernelspec": {
   "display_name": "Python 3",
   "language": "python",
   "name": "python3"
  },
  "language_info": {
   "codemirror_mode": {
    "name": "ipython",
    "version": 3
   },
   "file_extension": ".py",
   "mimetype": "text/x-python",
   "name": "python",
   "nbconvert_exporter": "python",
   "pygments_lexer": "ipython3",
   "version": "3.8.3"
  }
 },
 "nbformat": 4,
 "nbformat_minor": 4
}
